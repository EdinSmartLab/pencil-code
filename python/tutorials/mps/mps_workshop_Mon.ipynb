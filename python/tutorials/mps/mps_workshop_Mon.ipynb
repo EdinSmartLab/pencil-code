{
 "cells": [
  {
   "cell_type": "code",
   "execution_count": null,
   "metadata": {},
   "outputs": [],
   "source": [
    "\"\"\"Install anaconda and customise python \"\"\"\n",
    "#wget http://fagent.wikidot.com/local--files/python/mps_workshop_Mon.ipynb\n",
    "#https://www.anaconda.com/distribution/\n",
    "#wget https://repo.anaconda.com/archive/Anaconda3-2019.10-Linux-x86_64.sh\n",
    "#wget https://repo.anaconda.com/archive/Anaconda2-2019.10-Linux-x86_64.sh\n",
    "#sh Anaconda3-2019.10-Linux-x86_64.sh\n",
    "\n",
    "#also try conda create --name python=3.7\n",
    "\"\"\"options to run: python, ipython, jupyter-notebook, etc., and command line, batch script submission\"\"\"\n",
    "\n",
    "#differences with IDL - open source, optional modules need to be loaded, functions in modules, format\n",
    "\n",
    "#It can be convenient to include a pythonstart file, which will load some default modules of your choice\n",
    "#when launching python, ipython and jupyter-notebook, but not batch or command line scripts.\n",
    "#If python path aleady contains Pencil Code, then only the last two following lines need be included\n",
    "#in your .bashrc file.\n",
    "\"\"\"\n",
    "PENCIL_HOME=$HOME/codes/pencil-code\n",
    "export PENCIL_HOME\n",
    "export PATH=+$PATH:${PENCIL_HOME}/bin:+${PENCIL_HOME}/utils:+${PENCIL_HOME}/axel:${PENCIL_HOME}/{bin,utils{,/axel},remesh/bin}\n",
    "if [ -z $PYTHONPATH ]; then\n",
    "    PYTHONPATH=\"$PENCIL_HOME/python\"\n",
    "else\n",
    "    PYTHONPATH=\"$PYTHONPATH:$PENCIL_HOME/python\"\n",
    "fi\n",
    "export PYTHONSTARTUP=$HOME/pythonstart\n",
    "export PYTHONPATH=\"$PYTHONPATH:$PYTHONSTARTUP\"\n",
    "\"\"\"\n",
    "%pwd"
   ]
  },
  {
   "cell_type": "code",
   "execution_count": null,
   "metadata": {},
   "outputs": [],
   "source": [
    "#Replace these directory paths with paths accessible to yourself with pencil simulations and data.\n",
    "import pencil as pc\n",
    "\n",
    "%cd "
   ]
  },
  {
   "cell_type": "code",
   "execution_count": null,
   "metadata": {},
   "outputs": [],
   "source": [
    "#Alternative navigation to shell command line tools, python command line calls can be included in scripts\n",
    "#to be executed from the command line or batch file\n",
    "import os\n",
    "PC_HOME = os.getenv(\"PENCIL_HOME\")\n",
    "os.chdir(PC_HOME+'/python/tutorials')\n",
    "dir1=os.getcwd()\n",
    "os.chdir(os.path.join(dir1,'mps/ism'))\n",
    "dir2=os.getcwd()\n",
    "dir1,dir2\n"
   ]
  },
  {
   "cell_type": "code",
   "execution_count": null,
   "metadata": {},
   "outputs": [],
   "source": [
    "#reading and plotting time series objects, also read parameters files data/param.nml and data/param2.nml\n",
    "import matplotlib.pyplot as plt\n",
    "%ls\n",
    "ts = pc.read.ts()\n",
    "par=pc.read.param(quiet=True)\n",
    "print(ts.__dict__.keys())\n",
    "plt.plot(ts.t,ts.brms)\n",
    "#if plot does not display try:\n",
    "plt.show()"
   ]
  },
  {
   "cell_type": "code",
   "execution_count": null,
   "metadata": {},
   "outputs": [],
   "source": [
    "#To keep plots open in ipython plt.ion()"
   ]
  },
  {
   "cell_type": "code",
   "execution_count": null,
   "metadata": {},
   "outputs": [],
   "source": [
    "#Also available semilogy, semilogx and loglog\n",
    "plt.semilogy(ts.t,ts.brms,'g:')\n",
    "plt.semilogy(ts.t,ts.urms,'-.')\n",
    "plt.figure()\n",
    "\n"
   ]
  },
  {
   "cell_type": "code",
   "execution_count": null,
   "metadata": {},
   "outputs": [],
   "source": [
    "# various option for subplot or subplots permit combining plots\n",
    "fig, ax = plt.subplots(2, sharex=True)\n",
    "ax[0].plot(ts.urms)\n",
    "ax[1].plot(ts.brms*par.unit_magnetic*1e6)\n",
    "ax[0].set_ylabel(r'$u$ [kms]')\n",
    "ax[1].set_ylabel(r'$b$ [$\\mu$G]')\n",
    "ax[1].set_xlabel(r'$t$ [kpc]')"
   ]
  },
  {
   "cell_type": "code",
   "execution_count": null,
   "metadata": {},
   "outputs": [],
   "source": [
    "#read f-array and associated files\n",
    "var = pc.read.var(magic=['bb','tt','pp'],trimall=True)\n",
    "indx= pc.read.index()"
   ]
  },
  {
   "cell_type": "code",
   "execution_count": null,
   "metadata": {},
   "outputs": [],
   "source": [
    "print(var.__dict__.keys())\n",
    "print(indx.__dict__.keys())"
   ]
  },
  {
   "cell_type": "code",
   "execution_count": null,
   "metadata": {},
   "outputs": [],
   "source": [
    "\"\"\"\n",
    "arrays: tuples (), lists [], dictionaries {}, numpy arrays ()\n",
    "\"\"\"\n",
    "magic = []\n",
    "print(magic)\n",
    "\n",
    "magic.append('bb')\n",
    "print(magic)\n",
    "\n",
    "magic.append((2,'tt'))\n",
    "print(magic, magic[1][0])\n",
    "\n"
   ]
  },
  {
   "cell_type": "code",
   "execution_count": null,
   "metadata": {},
   "outputs": [],
   "source": [
    "stuff = (21, ['bb', 12, 1e23], 'Fred')\n",
    "stuff[0],stuff[1]"
   ]
  },
  {
   "cell_type": "code",
   "execution_count": null,
   "metadata": {},
   "outputs": [],
   "source": [
    "type(ts),type(ts.t)"
   ]
  },
  {
   "cell_type": "code",
   "execution_count": null,
   "metadata": {},
   "outputs": [],
   "source": [
    "#CAUTION '=' creates new pointer not an independent copy\n",
    "a=ts.t[:10].copy();print(a)\n",
    "b=a;b*=10\n",
    "a,b\n"
   ]
  },
  {
   "cell_type": "code",
   "execution_count": null,
   "metadata": {},
   "outputs": [],
   "source": [
    "a=ts.t[:10].copy();print(a)\n",
    "b=a.copy();b*=10\n",
    "a,b\n"
   ]
  },
  {
   "cell_type": "code",
   "execution_count": null,
   "metadata": {},
   "outputs": [],
   "source": [
    "import numpy as np\n",
    "index1=np.arange(10)\n",
    "index2=np.arange(1,10)\n",
    "index3=np.arange(1,10,2)\n",
    "index1,index2,index3\n"
   ]
  },
  {
   "cell_type": "code",
   "execution_count": null,
   "metadata": {},
   "outputs": [],
   "source": [
    "t0=np.zeros_like(ts.t)\n",
    "t1=np.ones_like(ts.t)\n",
    "n0=np.zeros([5,10])\n",
    "nn=np.empty([50,5])\n",
    "t0,t1,n0\n"
   ]
  },
  {
   "cell_type": "code",
   "execution_count": null,
   "metadata": {},
   "outputs": [],
   "source": [
    "t0.shape,t1.shape,n0.shape,nn.shape[0], nn.size\n",
    "\n"
   ]
  },
  {
   "cell_type": "code",
   "execution_count": null,
   "metadata": {},
   "outputs": [],
   "source": [
    "#example of a dictionary\n",
    "for key in indx.__dict__.keys():\n",
    "    print(key,indx.__getattribute__(key))"
   ]
  },
  {
   "cell_type": "code",
   "execution_count": null,
   "metadata": {},
   "outputs": [],
   "source": [
    "#Read averages object by default ['xy','xz','yz'], \n",
    "#but for small enough 2D arrays inlucde in plane_list=['y','z']\n",
    "av=pc.read.aver()\n"
   ]
  },
  {
   "cell_type": "code",
   "execution_count": null,
   "metadata": {},
   "outputs": [],
   "source": [
    "av.__dict__.keys(),av.xy.__dict__.keys()"
   ]
  },
  {
   "cell_type": "code",
   "execution_count": null,
   "metadata": {},
   "outputs": [],
   "source": [
    "#Read vidio slices.\n",
    "#For fortran binaries first use shell command $ src/read_all_videofiles.x, not necessary for hdf5.\n",
    "vslice = pc.read.slices()\n"
   ]
  },
  {
   "cell_type": "code",
   "execution_count": null,
   "metadata": {},
   "outputs": [],
   "source": [
    "vslice.__dict__.keys(),vslice.xy.__dict__.keys()"
   ]
  },
  {
   "cell_type": "code",
   "execution_count": null,
   "metadata": {},
   "outputs": [],
   "source": [
    "var.f.shape"
   ]
  },
  {
   "cell_type": "code",
   "execution_count": null,
   "metadata": {},
   "outputs": [],
   "source": [
    "#2D slices can be plotted with imshow, contour, contourf and pcolormesh.\n",
    "#Default color normalisation is linear.\n",
    "from matplotlib import colors\n",
    "from matplotlib import cm\n",
    "fslice = var.uu[0,20]\n",
    "fmin,fmax = fslice.min(),fslice.max()\n",
    "plt.imshow(fslice,\n",
    "           #norm=colors.LogNorm(),\n",
    "           extent=[var.x.min(),var.x.max(),var.y.min(),var.y.max()], #apply physical grid dimensions\n",
    "           vmin=-max(-fmin,fmax),vmax=max(-fmin,fmax), #use to center the colors about 0\n",
    "           cmap=cm.seismic #diverging color tables for vectors\n",
    "           #reference: https://matplotlib.org/examples/color/colormaps_reference.html\n",
    "          )\n",
    "cbar=plt.colorbar()\n",
    "cbar.ax.set_ylabel(r'$u_x$ [km s$^{-1}$]',fontsize=16) #label the colorbar"
   ]
  },
  {
   "cell_type": "code",
   "execution_count": null,
   "metadata": {},
   "outputs": [],
   "source": [
    "#compare imshow/pcolormesh for non-equidistant grid or non-Cartesian\n",
    "fslice = av.xy.rhomz\n",
    "math,vmax = fslice.min(),fslice.max()\n",
    "tz = np.meshgrid(av.t,var.z) #construct a 2D mesh for each coordinate\n",
    "plt.figure(figsize=[7,4])\n",
    "plt.pcolormesh(tz[0],tz[1],fslice.T,\n",
    "           norm=colors.LogNorm(), #log normalization of the colour scales\n",
    "           #vmin=-max(-fmin,fmax),vmax=max(-fmin,fmax),\n",
    "           cmap=cm.cool #sequential color maps for scalar variables\n",
    "              )\n",
    "plt.xlabel(r'${\\bf{\\gamma}}$ [Gyr]',fontsize=20)\n",
    "plt.ylabel(r'$h$ [kpc]',fontsize=20)\n",
    "#cbar=plt.colorbar()\n",
    "plt.figure(figsize=[7,4])\n",
    "plt.imshow(fslice.T,\n",
    "           norm=colors.LogNorm(),\n",
    "           extent=[av.t.min(),av.t.max(),var.z.min(),var.z.max()],\n",
    "           #vmin=-max(-fmin,fmax),vmax=max(-fmin,fmax),\n",
    "           cmap=cm.cool, aspect=0.018, #adjust the aspect ratio of the data\n",
    "           origin=True #sets indices 0,0 in bottom left corner\n",
    "          )\n",
    "plt.xlabel(r'${\\bf{\\gamma}}$ [Gyr]',fontsize=20)\n",
    "plt.ylabel(r'$h$ [kpc]',fontsize=20)\n",
    "\n",
    "#cbar=plt.colorbar()"
   ]
  },
  {
   "cell_type": "code",
   "execution_count": null,
   "metadata": {},
   "outputs": [],
   "source": [
    "vtk=pc.export.var2vtk('var.h5') #default is 'var.dat'"
   ]
  },
  {
   "cell_type": "code",
   "execution_count": null,
   "metadata": {},
   "outputs": [],
   "source": []
  }
 ],
 "metadata": {
  "kernelspec": {
   "display_name": "Python 2",
   "language": "python",
   "name": "python2"
  },
  "language_info": {
   "codemirror_mode": {
    "name": "ipython",
    "version": 3
   },
   "file_extension": ".py",
   "mimetype": "text/x-python",
   "name": "python",
   "nbconvert_exporter": "python",
   "pygments_lexer": "ipython3",
   "version": "3.7.3"
  }
 },
 "nbformat": 4,
 "nbformat_minor": 2
}
