{
 "cells": [
  {
   "cell_type": "code",
   "execution_count": null,
   "metadata": {},
   "outputs": [],
   "source": [
    "import pencil as pc\n",
    "import numpy as np\n",
    "import os\n",
    "import matplotlib.pyplot as plt\n",
    "from matplotlib import colors\n",
    "from matplotlib import cm\n",
    "import glob\n",
    "import fileinput\n",
    "import sys\n",
    "#TODO rvid_box plots\n",
    "#TODO sim objects and hdf5\n",
    "\"\"\" Tools to copy old binary format simulations into new hdf5 format for protability and continuation\n",
    "    Remeshing of old simulations in binary and/or hdf5 format shall follow\n",
    "\"\"\""
   ]
  },
  {
   "cell_type": "code",
   "execution_count": null,
   "metadata": {},
   "outputs": [],
   "source": [
    "pencil_home = os.getenv(\"PENCIL_HOME\")"
   ]
  },
  {
   "cell_type": "code",
   "execution_count": null,
   "metadata": {},
   "outputs": [],
   "source": [
    "os.chdir(pencil_home+'/python/tutorials/mps')"
   ]
  },
  {
   "cell_type": "code",
   "execution_count": null,
   "metadata": {},
   "outputs": [],
   "source": [
    "#identify the top directory for sim_path and list dir contents\n",
    "sim_path = os.getcwd()\n",
    "sim_list = glob.glob('*')\n",
    "#par_sim = os.path.join(sim_path,'restart')\n",
    "print(sim_path)\n",
    "print(sim_list)"
   ]
  },
  {
   "cell_type": "code",
   "execution_count": null,
   "metadata": {},
   "outputs": [],
   "source": [
    "\"\"\" An old simulation which has been executed with fortran binary\n",
    "    files distributed across a processor tree can be converted to\n",
    "    hdf5, redundant data removed and the run continued in hdf5.\n",
    "    This script loops through all items in the sim_path and \n",
    "    identifies which objects are existing simulation objects.\n",
    "    If a simulation directory contains the file 'data/grid.h5'\n",
    "    it is assumed already to be in hdf5 format so is skipped.\n",
    "    For some very old simulations errors in loading data may occur\n",
    "    for obsolete 'data/param.nml' files. If this occurs a dummy\n",
    "    run with the necessary setup can be compiled started and the\n",
    "    new param.nml replace the existing file. This can be automated\n",
    "    see comment (c) below.\n",
    "\"\"\"\n",
    "#process dir subdirectories if simulation and if not already hdf5\n",
    "for sim in sim_list:\n",
    "    sim_ = os.path.join(sim_path,sim)\n",
    "    h5_already=os.path.exists(os.path.join(sim_,'data/grid.h5'))\n",
    "    if pc.sim.is_sim_dir(sim_) and not h5_already:\n",
    "        #if simulation is to be processed move to directory\n",
    "        os.chdir(sim_)\n",
    "        cmd = 'du -csh '+sim_\n",
    "        os.system(cmd)\n",
    "        #edit Makefile.local from io_dist to io_hdf5 pre-compiling\n",
    "        for i, line in enumerate(fileinput.input('src/Makefile.local',\n",
    "                                                                    inplace=1)):\n",
    "            sys.stdout.write(line.replace('io_dist','io_hdf5'))\n",
    "        print('cleaning '+sim_)\n",
    "\n",
    "        #create a bash script to compile pc with src/read_all_videoslices.x\n",
    "        #may be commented out if executable already present (a) or data/slice_* complete (b)\n",
    "        #amend/comment the lines as required for your fortran compiler and python envcomment \n",
    "        f = open('pc_compiler','w')\n",
    "        f.write('#!/bin/bash\\n')\n",
    "        f.write('\\n')\n",
    "        f.write('module purge\\n')\n",
    "        f.write('module load intel/16.0.0 intelmpi hdf5-par\\n')\n",
    "        f.write('module list\\n')\n",
    "        f.write('\\n')\n",
    "        #minimal next 4 lines required to add executables depending on compiler\n",
    "        f.write('pc_setupsrc\\n')\n",
    "        f.write('make distclean\\n')\n",
    "        f.write('pc_build -f Intel_MPI.conf\\n')\n",
    "        f.write('pc_build -f Intel_MPI.conf -t ALL\\n')\n",
    "        f.write('\\n')\n",
    "        #following lines required to restore python environment depending on your system\n",
    "        f.write('module purge\\n')\n",
    "        f.write('module load python-env/3.5.3\\n')\n",
    "        f.write('module load hdf5-par\\n')\n",
    "        f.write('export PYTHONPATH=$USERAPPL/Pencilcodepython3/lib/python3.5/site-packages\\n')\n",
    "        f.write('export PYTHONPATH=\"$PYTHONPATH:$PENCIL_HOME/python\"\\n')\n",
    "        f.write('module list\\n')\n",
    "        f.close()\n",
    "        cmd = 'bash pc_compiler'\n",
    "        os.system(cmd)\n",
    "        #(a) files above to provide src/read_all_videoslices\n",
    "        #comment cmd call above if executables already present\n",
    "        if not os.path.exists('data/slice_uu1.xy'):\n",
    "            lvids = False\n",
    "            for iproc in range(0, ncpus):\n",
    "                if os.path.exists('data/proc{}/slice_uu1.xy'.format(iproc)):\n",
    "                    lvids=True\n",
    "                    cmd = './src/read_all_videofiles.x'\n",
    "                    os.system(cmd)\n",
    "                    break\n",
    "        #(b) files above to construct data/slices from proc tree binary\n",
    "        #slices files.\n",
    "        #may still want to call above cmd if slices need to be updated\n",
    "\n",
    "        #copy scripts from sim_path which will be edited for each sim\n",
    "        #typically the data can be converted in the same sim directory\n",
    "        #if confident, to save disk space redundant files can be removed during the process\n",
    "        #otherwise they can be retained until the conversion is complete and verified\n",
    "        #here we create a new sim 'ism_binary2h5' for test purposes\n",
    "\n",
    "        #script to call fort2h5.py if no mpi and var processing by proc not needed\n",
    "        #here we shall use only serial python - edit as required for mpi\n",
    "        cmd = 'cp '+os.path.join(sim_path,'loc-fort2h5.py')\\\n",
    "              +' '+os.path.join(sim_path,sim_,'loc-fort2h5.py')\n",
    "        os.system(cmd)\n",
    "        #script to call fort2h5.py with mpi or var processing by proc needed\n",
    "        cmd = 'cp '+os.path.join(sim_path,'par-fort2h5.py')\\\n",
    "              +' '+os.path.join(sim_path,sim_,'par-fort2h5.py')\n",
    "        #batch script to call fort2h5.py with mpi or var processing by proc needed\n",
    "        #a python environment compiled for hdf5-parallel must be available to the HPC nodes \n",
    "        os.system(cmd)\n",
    "        cmd = 'cp '+os.path.join(sim_path,'job_python')\\\n",
    "              +' '+os.path.join(sim_path,sim_,'job_python')\n",
    "        os.system(cmd)\n",
    "\n",
    "        #read cparam.local to determine number ncpus for proc tree of binary files\n",
    "        for line in open('src/cparam.local','r').readlines():\n",
    "            if 'ncpus' in line:\n",
    "                ncpus = int(str.split(str.split(str.split(\n",
    "                            line,',')[1],'::')[1],'=')[1])\n",
    "                break\n",
    "        print(sim_,'ncpus',ncpus)\n",
    "\n",
    "        #having copied the files to the sim directory we shall edit the call as files are\n",
    "        #available or in case the conversion is partially complete\n",
    "        #by default var files, videos slices and averages are included\n",
    "        #if large 2D averages set also laver2D=True, laver sufficient for smaller 2D datasets\n",
    "        lvars, lvids, laver = True, True, True\n",
    "        if not os.path.exists('data/proc0/var.dat'):\n",
    "            lvars = False\n",
    "            for i, line in enumerate(fileinput.input('loc-fort2h5.py',inplace=1)):\n",
    "                sys.stdout.write(line.replace('lvars=True','lvars=False'))\n",
    "        if not os.path.exists('data/xyaverages.dat'):\n",
    "            for i, line in enumerate(fileinput.input('loc-fort2h5.py',inplace=1)):\n",
    "                sys.stdout.write(line.replace('laver=True','laver=False'))\n",
    "        if not lvids:\n",
    "            for i, line in enumerate(fileinput.input('loc-fort2h5.py',inplace=1)):\n",
    "                sys.stdout.write(line.replace('lvids=True','lvids=False'))\n",
    "\n",
    "        #edit files to offer new directory path '*2h5' - omit if using same sim directory\n",
    "        for i, line in enumerate(fileinput.input('loc-fort2h5.py',inplace=1)):\n",
    "            sys.stdout.write(line.replace('sim2h5(','sim2h5(\\n             newdir=\"'+sim_+'2h5\",'))\n",
    "        for i, line in enumerate(fileinput.input('par-fort2h5.py',inplace=1)):\n",
    "            sys.stdout.write(line.replace('sim2h5(','sim2h5(\\n             newdir=\"'+sim_+'2h5\",'))\n",
    "        #(c) if the old 'data/param.nml' file leads to reading errors for the old data\n",
    "        #cmd = 'cp '+os.path.join(sim_path,'ism','data','param.nml')+\\\n",
    "        #      os.path.join(sim_,'data','param.nml')\n",
    "        #os.system(cmd)\n",
    "\n",
    "        if ncpus > 24:\n",
    "            #use mpi with batch script submission\n",
    "            if lvars:\n",
    "                #var files handled by processor so amend the append loc-fort2h5.py\n",
    "                for i, line in enumerate(fileinput.input(\n",
    "                                                   'loc-fort2h5.py',inplace=1)):\n",
    "                    sys.stdout.write(line.replace('lvars=True',\n",
    "                                                             'lvars=False')) \n",
    "                f = open('par-fort2h5.py','a')\n",
    "                f.write(open('loc-fort2h5.py').read())\n",
    "                f.close()\n",
    "                cmd = 'sbatch job_python'\n",
    "                os.system(cmd)\n",
    "            else:\n",
    "                #apply mpi without snap_by_proc for var files\n",
    "                for i, line in enumerate(fileinput.input(\n",
    "                                                       'job_python',inplace=1)):\n",
    "                    sys.stdout.write(line.replace('par-fort2h5.py',\n",
    "                                                                  'loc-fort2h5.py'))\n",
    "                cmd = 'sbatch job_python'\n",
    "                os.system(cmd)\n",
    "        else:\n",
    "            #no mpi command line call\n",
    "            cmd = 'python loc-fort2h5.py'\n",
    "            os.system(cmd)\n"
   ]
  },
  {
   "cell_type": "code",
   "execution_count": null,
   "metadata": {},
   "outputs": [],
   "source": [
    "\"\"\" The following section details remeshing a simulation from an existing.\n",
    "    This will shortly be revised to use the pencil modules and apply either \n",
    "    fortran binary or hdf5 formats. We shall also demonstrate the capacity\n",
    "    to use the pencil.sim modules to setup and array of simulations, compile\n",
    "    and run them from a single script. (To follow)\n",
    "\"\"\""
   ]
  },
  {
   "cell_type": "code",
   "execution_count": null,
   "metadata": {},
   "outputs": [],
   "source": [
    "#using Plotly likely requires to install plotly in conda\n",
    "#$ conda install -c plotly plotly-orca psutil requests"
   ]
  },
  {
   "cell_type": "code",
   "execution_count": null,
   "metadata": {},
   "outputs": [],
   "source": [
    "#identify old sim to remesh\n",
    "wrkdir=os.path.join(sim_path,'ism_binary')\n"
   ]
  },
  {
   "cell_type": "code",
   "execution_count": null,
   "metadata": {},
   "outputs": [],
   "source": [
    "#create new sim from existing parameters\n",
    "os.chdir(wrkdir)\n",
    "meshdir = wrkdir+\"remesh\"\n",
    "cmd = \"pc_newrun \"+cmd = \"pc_newrun \"+meshdir\n",
    "os.system(cmd)"
   ]
  },
  {
   "cell_type": "code",
   "execution_count": null,
   "metadata": {},
   "outputs": [],
   "source": [
    "#remesh binary sim using old pencil script TO BE REVISED IN PENCIL\n",
    "from pencil_old.files import remesh"
   ]
  },
  {
   "cell_type": "code",
   "execution_count": null,
   "metadata": {},
   "outputs": [],
   "source": [
    "#What are the existing grid dimensions\n",
    "os.chdir(wrkdir)\n",
    "old_grid=pc.read.grid(quiet=True)\n",
    "old_dim=pc.read.dim()\n",
    "old_param=pc.read.param(quiet=True)\n",
    "old_index=pc.read.index()"
   ]
  },
  {
   "cell_type": "code",
   "execution_count": null,
   "metadata": {},
   "outputs": [],
   "source": [
    "#arbitrary regridding permissible except that each direction must be divisible by new processor layout\n",
    "print(int(old_dim.nxgrid*0.8), int(old_dim.nygrid*0.8), int(old_dim.nzgrid*0.8))\n",
    "print(old_dim.nprocx,old_dim.nprocy,old_dim.nprocz)\n",
    "print(old_param.xyz0,old_param.xyz1)\n"
   ]
  },
  {
   "cell_type": "code",
   "execution_count": null,
   "metadata": {},
   "outputs": [],
   "source": []
  },
  {
   "cell_type": "code",
   "execution_count": null,
   "metadata": {},
   "outputs": [],
   "source": []
  },
  {
   "cell_type": "code",
   "execution_count": null,
   "metadata": {},
   "outputs": [],
   "source": [
    "#Before this call edit cparam.local in \n",
    "#default var.dat copied and written\n",
    "arrs=[]\n",
    "for key in old_index.__dict__.keys():\n",
    "    if 'keys' not in key:\n",
    "        arrs.append(key)\n",
    "print(arrs)\n",
    "fnew=remesh.interp_var(target_path=newdir, source_path=olddir, arrs=arrs)"
   ]
  },
  {
   "cell_type": "code",
   "execution_count": null,
   "metadata": {},
   "outputs": [],
   "source": []
  }
 ],
 "metadata": {
  "kernelspec": {
   "display_name": "Python 2",
   "language": "python",
   "name": "python2"
  },
  "language_info": {
   "codemirror_mode": {
    "name": "ipython",
    "version": 3
   },
   "file_extension": ".py",
   "mimetype": "text/x-python",
   "name": "python",
   "nbconvert_exporter": "python",
   "pygments_lexer": "ipython3",
   "version": "3.7.3"
  }
 },
 "nbformat": 4,
 "nbformat_minor": 2
}
