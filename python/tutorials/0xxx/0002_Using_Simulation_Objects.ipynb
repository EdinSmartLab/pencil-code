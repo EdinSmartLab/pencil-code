{
 "cells": [
  {
   "cell_type": "raw",
   "metadata": {
    "collapsed": false,
    "deletable": true,
    "editable": true
   },
   "source": [
    "import pencilnew as pcn\n",
    "import os"
   ]
  },
  {
   "cell_type": "markdown",
   "metadata": {
    "deletable": true,
    "editable": true
   },
   "source": [
    "# Intro\n",
    "This tutorial will introduce you to simulation objects. They are used to easily set up, compile, modify, access and copy simulations. Many more functionallities will be added soon.\n",
    "\n",
    "# Creating Simulation Objects\n",
    "Simulation objects in <code>pencilnew</code>, short <code>pcn</code>, are structured as follows:\n",
    "- The simulation object and its methods can be found in <code>pencilnew/sim/simulation.py</code>\n",
    "- Functions for handling simulation objects (some examples below) are found in <code>pencilnew/sim</code> as well.\n",
    "- Functions that understand simulation objects as inputs, i.e. reading, calculating, etc., have the optional parameter <code>sim</code> where you can hand over your simulation object, or <code>sims</code> where you can hand over a list of simulation objects.\n",
    "\n",
    "Let's start with getting a simulation object and make a copy of it."
   ]
  },
  {
   "cell_type": "raw",
   "metadata": {
    "collapsed": false,
    "deletable": true,
    "editable": true,
    "scrolled": true
   },
   "source": [
    "sim = pcn.get_sim('../sample_simulations/2d_streaming_instability')\n",
    "\n",
    "# Check the identity of this simulation by using:\n",
    "print('Simulation with name '+sim.name+' is located at')\n",
    "print(sim.path)"
   ]
  },
  {
   "cell_type": "markdown",
   "metadata": {
    "deletable": true,
    "editable": true
   },
   "source": [
    "You notice, we have nowhere specified the name of the simulation. The name is always the foldername where the simulation is inside. Here, 2d_streaming_instability is the folder and thus the name.\n",
    "\n",
    "I recommend to use the following folder structure:\n",
    "\n",
    "{main_drive}/{project_name}/{subproject_name}/{simulation_name}\n",
    "\n",
    "and create a data directory for you simulation in\n",
    "\n",
    "{data_drive}/{project_name}/{subproject_name}/{simulation_name}\n",
    "\n",
    "and link this data folder into you simulation folder by using\n",
    "\n",
    "<i>ls -s {data_drive}/{project_name}/{subproject_name}/{simulation_name} data</i>\n",
    "\n",
    "inside of .../{simulation_name} folder.\n",
    "\n",
    "Beware that <code>quiet=True</code> is the default. So if something seems to go wrong, set <code>quiet=False</code> and check for problems. \n",
    "\n",
    "Hint: If the following output in jupyter is too long, click on the output cell and use 'O' to hide its content."
   ]
  },
  {
   "cell_type": "raw",
   "metadata": {
    "collapsed": false,
    "deletable": true,
    "editable": true
   },
   "source": [
    "sim = pcn.get_sim('../sample_simulations/2d_streaming_instability', quiet=False)"
   ]
  },
  {
   "cell_type": "markdown",
   "metadata": {
    "deletable": true,
    "editable": true
   },
   "source": [
    "You see, creating simulation objects is very easy! One can start now an use their functionalities or even loop over a list of simulation objects to perform similar operations on each simulation.\n",
    "\n",
    "Hint: Same procedure could be achieved by using the simulation object constructor directly. But beware, <code>quiet=False</code> is default for the constructor, other than <code>pcn.get_sim()</code>!"
   ]
  },
  {
   "cell_type": "raw",
   "metadata": {
    "collapsed": false,
    "deletable": true,
    "editable": true
   },
   "source": [
    "sim = pcn.sim.simulation('../sample_simulations/2d_streaming_instability', quiet=True)"
   ]
  },
  {
   "cell_type": "markdown",
   "metadata": {
    "deletable": true,
    "editable": true
   },
   "source": [
    "# Copying a Simulation to a Different Directory"
   ]
  },
  {
   "cell_type": "markdown",
   "metadata": {
    "deletable": true,
    "editable": true
   },
   "source": [
    "Let's make a copy of this simulation and modify it a bit. Before that, we have to think of the following two things: \n",
    "\n",
    "a) where to put the new simulation (path_root) and \n",
    "\n",
    "b) what will be its name. Consider that the name will be its folder name as well!"
   ]
  },
  {
   "cell_type": "raw",
   "metadata": {
    "collapsed": false,
    "deletable": true,
    "editable": true
   },
   "source": [
    "sim_copy = sim.copy('../tmp/0002', 'copy_of_2d_si')"
   ]
  },
  {
   "cell_type": "markdown",
   "metadata": {
    "deletable": true,
    "editable": true
   },
   "source": [
    "Now carefuly check what we have done! We stated both name and path for the new simulation separately to the copy constructor. \n",
    "\n",
    "The reasons are:\n",
    "\n",
    "a) Simulations should always rest in a folder which is the same as the simulation name to recognize them! Especially since this is also where simulation names are gathered from when using <code>pcn.get_sim()</code>."
   ]
  },
  {
   "cell_type": "raw",
   "metadata": {
    "collapsed": false,
    "deletable": true,
    "editable": true
   },
   "source": [
    "print(sim_copy.name)\n",
    "print(sim_copy.path)"
   ]
  },
  {
   "cell_type": "markdown",
   "metadata": {
    "deletable": true,
    "editable": true
   },
   "source": [
    "b) If you want to create many simulations from one main simulation you should be able to do so in a few lines of code. Example:"
   ]
  },
  {
   "cell_type": "raw",
   "metadata": {
    "collapsed": false,
    "deletable": true,
    "editable": true
   },
   "source": [
    "root_path = '../tmp/0002'\n",
    "for name in ['a', 'b', 'c']:\n",
    "    sim.copy(root_path, name)\n",
    "import os\n",
    "os.listdir(root_path)"
   ]
  },
  {
   "cell_type": "markdown",
   "metadata": {
    "deletable": true,
    "editable": true
   },
   "source": [
    "c) One should be able to make a copy of a simulation without knowing its name! Here, we copy <code>sim</code> from above to root_path, withour specifing a destination name, meaning it will be the same name as <code>sim</code> has.\n",
    "\n",
    "Beware: If within root_path there is already a folder with <code>sim.name</code> as name, the new copyied simulation will have the name </code>sim.name+'_copy'</code>. You can find this out by executing the lines above more than once."
   ]
  },
  {
   "cell_type": "raw",
   "metadata": {
    "collapsed": false,
    "deletable": true,
    "editable": true
   },
   "source": [
    "sim.copy(root_path)\n",
    "os.listdir(root_path)"
   ]
  },
  {
   "cell_type": "markdown",
   "metadata": {
    "deletable": true,
    "editable": true
   },
   "source": [
    "# Deleting Runs\n",
    "\n",
    "Now, lets get rid of the simulation we created beforehand. Therefore, we use <code>pcn.get_sims(folder)</code> to get all simulations that are within a folder! This is mighty, as you will see in the following. Since deleting should always considered seriously, we first do a dry removal run first.\n",
    "\n",
    "## Dry Deleting, nothing will happen here"
   ]
  },
  {
   "cell_type": "code",
   "execution_count": null,
   "metadata": {
    "collapsed": true,
    "deletable": true,
    "editable": true
   },
   "outputs": [],
   "source": [
    "sims = pcn.get_sims(root_path)\n",
    "for sim in sims:\n",
    "    print('! Removing '+sim.name)\n",
    "    sim.remove()\n",
    "    print('\\n')"
   ]
  },
  {
   "cell_type": "markdown",
   "metadata": {
    "deletable": true,
    "editable": true
   },
   "source": [
    "## Now do the real deleting"
   ]
  },
  {
   "cell_type": "code",
   "execution_count": null,
   "metadata": {
    "collapsed": true,
    "deletable": true,
    "editable": true
   },
   "outputs": [],
   "source": [
    "sims = pcn.get_sims(root_path)\n",
    "for sim in sims:\n",
    "    print('! Removing '+sim.name)\n",
    "    sim.remove(do_it=True, do_it_really=True, remove_data=True)\n",
    "    print('\\n')"
   ]
  },
  {
   "cell_type": "raw",
   "metadata": {
    "collapsed": false,
    "deletable": true,
    "editable": true
   },
   "source": [
    "os.listdir(root_path)"
   ]
  },
  {
   "cell_type": "markdown",
   "metadata": {
    "deletable": true,
    "editable": true
   },
   "source": [
    "# Changing Simulation Parameters\n",
    "So far, we havnt implemented a way to modify simulation modules from python! But you can modify <code>src/cparam.local</code> and <code>start.in</code> and <code>run.in</code>. You see, ways to modify <code>print.in</code>, <code>video.in</code>, etc. are missing. Feel free to add them!\n",
    "\n",
    "The reason they are missing is, that valid input parameters depend on modules and its sometimes unclear where and how to add parameters correcly. But, changing them is rather easy and anyway what we do most of the time!\n",
    "\n",
    "So, for starting runs with modifyied parameters our workflow should be:\n",
    "1. Find a suitable master simulation or set up one on your own.\n",
    "2. From this master simulation produce your simulation copies. \n",
    "3. Change parameters of the simulations. \n",
    "\n",
    "You already know how to do the first two things. Let's explore how we can do the last step from python.\n",
    "\n",
    "## a) Make changes in cparam.local"
   ]
  },
  {
   "cell_type": "markdown",
   "metadata": {
    "deletable": true,
    "editable": true
   },
   "source": [
    "## Make changes in start.in and run.in"
   ]
  },
  {
   "cell_type": "code",
   "execution_count": null,
   "metadata": {
    "collapsed": false,
    "deletable": true,
    "editable": true
   },
   "outputs": [],
   "source": []
  },
  {
   "cell_type": "markdown",
   "metadata": {
    "deletable": true,
    "editable": true
   },
   "source": [
    "# Compile and run simulations"
   ]
  },
  {
   "cell_type": "raw",
   "metadata": {
    "collapsed": false,
    "deletable": true,
    "editable": true
   },
   "source": [
    "sim_copy.compile()"
   ]
  },
  {
   "cell_type": "code",
   "execution_count": null,
   "metadata": {
    "collapsed": true,
    "deletable": true,
    "editable": true
   },
   "outputs": [],
   "source": []
  },
  {
   "cell_type": "code",
   "execution_count": null,
   "metadata": {
    "collapsed": true,
    "deletable": true,
    "editable": true
   },
   "outputs": [],
   "source": []
  }
 ],
 "metadata": {
  "kernelspec": {
   "display_name": "Python 2",
   "language": "python",
   "name": "python2"
  },
  "language_info": {
   "codemirror_mode": {
    "name": "ipython",
    "version": 2
   },
   "file_extension": ".py",
   "mimetype": "text/x-python",
   "name": "python",
   "nbconvert_exporter": "python",
   "pygments_lexer": "ipython2",
   "version": "2.7.12"
  }
 },
 "nbformat": 4,
 "nbformat_minor": 1
}
